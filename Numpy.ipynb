{
 "cells": [
  {
   "cell_type": "markdown",
   "metadata": {
    "id": "AmFvR7ZPsYBY"
   },
   "source": [
    "# Numpy \n",
    " \n",
    "<b> NumPy is a python library used for working with arrays.It also has functions for working in domain of linear algebra, fourier transform, and matrices.\n",
    "\n",
    "Numpy installation command (Anaconda):\n",
    "    <i>pip install numpy</i>\n",
    "    \n",
    " \n",
    "</b>\n",
    "\n",
    "\n",
    "    \n",
    " \n",
    " "
   ]
  },
  {
   "cell_type": "markdown",
   "metadata": {
    "id": "y4GLlXw4sYBa"
   },
   "source": [
    "### NumPy Creating Arrays"
   ]
  },
  {
   "cell_type": "code",
   "execution_count": 1,
   "metadata": {
    "colab": {
     "base_uri": "https://localhost:8080/"
    },
    "executionInfo": {
     "elapsed": 4,
     "status": "ok",
     "timestamp": 1628617603382,
     "user": {
      "displayName": "Raj krishan Ghosh",
      "photoUrl": "https://lh3.googleusercontent.com/a-/AOh14GghvZXWXwTELPkRWO4g8oOi0UxcwpxC7jJEUDNxbg=s64",
      "userId": "08394546989760083469"
     },
     "user_tz": -330
    },
    "id": "eNLfh749sYBb",
    "outputId": "74db64ca-0149-410b-b83f-b2ae85b8657b"
   },
   "outputs": [
    {
     "name": "stdout",
     "output_type": "stream",
     "text": [
      "[1 2 3 4 5]\n",
      "['a' 'b']\n",
      "<class 'numpy.ndarray'>\n"
     ]
    }
   ],
   "source": [
    "#After installation you can import numpy and use.\n",
    "\n",
    "import numpy\n",
    "\n",
    "a= numpy.array([1, 2, 3, 4, 5])\n",
    "b= numpy.array(['a', 'b'])\n",
    "\n",
    "print(a)\n",
    "print(b)\n",
    "\n",
    "print(type(a))\n"
   ]
  },
  {
   "cell_type": "code",
   "execution_count": 2,
   "metadata": {
    "colab": {
     "base_uri": "https://localhost:8080/"
    },
    "executionInfo": {
     "elapsed": 396,
     "status": "ok",
     "timestamp": 1628617631529,
     "user": {
      "displayName": "Raj krishan Ghosh",
      "photoUrl": "https://lh3.googleusercontent.com/a-/AOh14GghvZXWXwTELPkRWO4g8oOi0UxcwpxC7jJEUDNxbg=s64",
      "userId": "08394546989760083469"
     },
     "user_tz": -330
    },
    "id": "TzCuSKp9sYBb",
    "outputId": "f4e071d6-f9fd-4592-ee35-68afdee2bcf3"
   },
   "outputs": [
    {
     "name": "stdout",
     "output_type": "stream",
     "text": [
      "[1 2 3 4 5]\n"
     ]
    }
   ],
   "source": [
    "#NumPy is usually imported under the np alias.\n",
    "import numpy as np\n",
    "\n",
    "a= np.array([1,2,3,4,5])\n",
    "\n",
    "print(a)"
   ]
  },
  {
   "cell_type": "code",
   "execution_count": 3,
   "metadata": {
    "colab": {
     "base_uri": "https://localhost:8080/"
    },
    "executionInfo": {
     "elapsed": 9,
     "status": "ok",
     "timestamp": 1628617637698,
     "user": {
      "displayName": "Raj krishan Ghosh",
      "photoUrl": "https://lh3.googleusercontent.com/a-/AOh14GghvZXWXwTELPkRWO4g8oOi0UxcwpxC7jJEUDNxbg=s64",
      "userId": "08394546989760083469"
     },
     "user_tz": -330
    },
    "id": "Uyp9XXOssYBc",
    "outputId": "b73435c0-4aff-47fc-a312-139550a45830"
   },
   "outputs": [
    {
     "name": "stdout",
     "output_type": "stream",
     "text": [
      "1.18.5\n"
     ]
    }
   ],
   "source": [
    "#check numpy version\n",
    "\n",
    "import numpy as np\n",
    "print(np.__version__)"
   ]
  },
  {
   "cell_type": "markdown",
   "metadata": {
    "id": "nqGQrsF7sYBc"
   },
   "source": [
    "### To create a numpy array using Tuple"
   ]
  },
  {
   "cell_type": "code",
   "execution_count": 4,
   "metadata": {
    "colab": {
     "base_uri": "https://localhost:8080/"
    },
    "executionInfo": {
     "elapsed": 381,
     "status": "ok",
     "timestamp": 1628617647831,
     "user": {
      "displayName": "Raj krishan Ghosh",
      "photoUrl": "https://lh3.googleusercontent.com/a-/AOh14GghvZXWXwTELPkRWO4g8oOi0UxcwpxC7jJEUDNxbg=s64",
      "userId": "08394546989760083469"
     },
     "user_tz": -330
    },
    "id": "x-TWek0fsYBd",
    "outputId": "b49ad9f1-2ea7-4ddc-8ef0-968ffa2b761e"
   },
   "outputs": [
    {
     "name": "stdout",
     "output_type": "stream",
     "text": [
      "[1 2 3 4 5]\n"
     ]
    }
   ],
   "source": [
    "import numpy as np\n",
    "\n",
    "a = np.array((1, 2, 3, 4, 5))   #Tuple a = (1,2,3,4,5)\n",
    "\n",
    "print(a)"
   ]
  },
  {
   "cell_type": "markdown",
   "metadata": {
    "id": "nXutFdJRsYBd"
   },
   "source": [
    "### Creating 0, 1, 2 Dimentional array"
   ]
  },
  {
   "cell_type": "code",
   "execution_count": 5,
   "metadata": {
    "colab": {
     "base_uri": "https://localhost:8080/"
    },
    "executionInfo": {
     "elapsed": 413,
     "status": "ok",
     "timestamp": 1628617663587,
     "user": {
      "displayName": "Raj krishan Ghosh",
      "photoUrl": "https://lh3.googleusercontent.com/a-/AOh14GghvZXWXwTELPkRWO4g8oOi0UxcwpxC7jJEUDNxbg=s64",
      "userId": "08394546989760083469"
     },
     "user_tz": -330
    },
    "id": "TufG_uhEsYBe",
    "outputId": "0a51dd1c-6902-4802-abaa-4f4ed1c8d09b"
   },
   "outputs": [
    {
     "name": "stdout",
     "output_type": "stream",
     "text": [
      "42\n",
      "0\n"
     ]
    }
   ],
   "source": [
    "# 0-D array\n",
    "\n",
    "#import numpy as np\n",
    "\n",
    "a = np.array(42)\n",
    "\n",
    "print(a)\n",
    "print(a.ndim)"
   ]
  },
  {
   "cell_type": "code",
   "execution_count": 6,
   "metadata": {
    "colab": {
     "base_uri": "https://localhost:8080/"
    },
    "executionInfo": {
     "elapsed": 407,
     "status": "ok",
     "timestamp": 1628617669310,
     "user": {
      "displayName": "Raj krishan Ghosh",
      "photoUrl": "https://lh3.googleusercontent.com/a-/AOh14GghvZXWXwTELPkRWO4g8oOi0UxcwpxC7jJEUDNxbg=s64",
      "userId": "08394546989760083469"
     },
     "user_tz": -330
    },
    "id": "CeqjiY9nsYBf",
    "outputId": "89f28460-0227-413c-b040-92c36a031c28"
   },
   "outputs": [
    {
     "name": "stdout",
     "output_type": "stream",
     "text": [
      "[1 2 3 4 5]\n",
      "1\n"
     ]
    }
   ],
   "source": [
    "# 1-D array\n",
    "\n",
    "#import numpy as np\n",
    "\n",
    "a = np.array([1, 2, 3, 4, 5])\n",
    "\n",
    "print(a)\n",
    "print(a.ndim)"
   ]
  },
  {
   "cell_type": "code",
   "execution_count": 7,
   "metadata": {
    "colab": {
     "base_uri": "https://localhost:8080/"
    },
    "executionInfo": {
     "elapsed": 394,
     "status": "ok",
     "timestamp": 1628617675544,
     "user": {
      "displayName": "Raj krishan Ghosh",
      "photoUrl": "https://lh3.googleusercontent.com/a-/AOh14GghvZXWXwTELPkRWO4g8oOi0UxcwpxC7jJEUDNxbg=s64",
      "userId": "08394546989760083469"
     },
     "user_tz": -330
    },
    "id": "2kuAHrIUsYBf",
    "outputId": "250f9bf0-a174-48ea-acdc-1f93a3c5102e"
   },
   "outputs": [
    {
     "name": "stdout",
     "output_type": "stream",
     "text": [
      "[[1 2 3]\n",
      " [4 5 6]]\n",
      "2\n"
     ]
    }
   ],
   "source": [
    "# 2- D array\n",
    "\n",
    "#import numpy as np\n",
    "\n",
    "a = np.array([[1, 2, 3], [4, 5, 6]])\n",
    "\n",
    "print(a)\n",
    "print(a.ndim)"
   ]
  },
  {
   "cell_type": "code",
   "execution_count": 8,
   "metadata": {
    "colab": {
     "base_uri": "https://localhost:8080/"
    },
    "executionInfo": {
     "elapsed": 380,
     "status": "ok",
     "timestamp": 1628617690028,
     "user": {
      "displayName": "Raj krishan Ghosh",
      "photoUrl": "https://lh3.googleusercontent.com/a-/AOh14GghvZXWXwTELPkRWO4g8oOi0UxcwpxC7jJEUDNxbg=s64",
      "userId": "08394546989760083469"
     },
     "user_tz": -330
    },
    "id": "KvJDqfq_sYBf",
    "outputId": "df3f1924-5d4f-4b64-ee4d-d204fb60aa7b"
   },
   "outputs": [
    {
     "name": "stdout",
     "output_type": "stream",
     "text": [
      "[[[[[1 2 3 4]]]]]\n",
      "5\n"
     ]
    }
   ],
   "source": [
    "#high dimensional array\n",
    "\n",
    "#import numpy as np\n",
    "\n",
    "a = np.array([1,2,3,4], ndmin=5)\n",
    "print(a)\n",
    "print(a.ndim)"
   ]
  },
  {
   "cell_type": "markdown",
   "metadata": {
    "id": "xUl3eS0lsYBg"
   },
   "source": [
    "### Numpy array Indexing\n",
    "\n",
    "It is same as accessing the element."
   ]
  },
  {
   "cell_type": "code",
   "execution_count": 9,
   "metadata": {
    "colab": {
     "base_uri": "https://localhost:8080/"
    },
    "executionInfo": {
     "elapsed": 413,
     "status": "ok",
     "timestamp": 1628617725521,
     "user": {
      "displayName": "Raj krishan Ghosh",
      "photoUrl": "https://lh3.googleusercontent.com/a-/AOh14GghvZXWXwTELPkRWO4g8oOi0UxcwpxC7jJEUDNxbg=s64",
      "userId": "08394546989760083469"
     },
     "user_tz": -330
    },
    "id": "7fUPBZ1RsYBg",
    "outputId": "2dfbff20-c14e-4f52-b58e-c58dc8fae6a2"
   },
   "outputs": [
    {
     "name": "stdout",
     "output_type": "stream",
     "text": [
      "12\n"
     ]
    }
   ],
   "source": [
    "#Get the first element from the following array.\n",
    "\n",
    "#import numpy as np\n",
    "\n",
    "a = np.array([10, 12, 30, 14])\n",
    "\n",
    "print(a[1])"
   ]
  },
  {
   "cell_type": "code",
   "execution_count": 10,
   "metadata": {
    "colab": {
     "base_uri": "https://localhost:8080/"
    },
    "executionInfo": {
     "elapsed": 379,
     "status": "ok",
     "timestamp": 1628617730366,
     "user": {
      "displayName": "Raj krishan Ghosh",
      "photoUrl": "https://lh3.googleusercontent.com/a-/AOh14GghvZXWXwTELPkRWO4g8oOi0UxcwpxC7jJEUDNxbg=s64",
      "userId": "08394546989760083469"
     },
     "user_tz": -330
    },
    "id": "GcKcEtb7sYBg",
    "outputId": "00cfe758-1e5f-431a-b5b9-332da93e0bb0"
   },
   "outputs": [
    {
     "name": "stdout",
     "output_type": "stream",
     "text": [
      "25\n"
     ]
    }
   ],
   "source": [
    "#get 2nd and 3rd element from the following and add them.\n",
    "\n",
    "#import numpy as np\n",
    "\n",
    "a = np.array([11, 12, 13, 14])\n",
    "\n",
    "print(a[1] + a[2])"
   ]
  },
  {
   "cell_type": "code",
   "execution_count": 11,
   "metadata": {
    "colab": {
     "base_uri": "https://localhost:8080/"
    },
    "executionInfo": {
     "elapsed": 442,
     "status": "ok",
     "timestamp": 1628617739674,
     "user": {
      "displayName": "Raj krishan Ghosh",
      "photoUrl": "https://lh3.googleusercontent.com/a-/AOh14GghvZXWXwTELPkRWO4g8oOi0UxcwpxC7jJEUDNxbg=s64",
      "userId": "08394546989760083469"
     },
     "user_tz": -330
    },
    "id": "BLhrSn-psYBh",
    "outputId": "6fbb824d-6c25-46b0-9de6-d80aa969d2c6"
   },
   "outputs": [
    {
     "name": "stdout",
     "output_type": "stream",
     "text": [
      "2nd element on 1st dim:  17\n"
     ]
    }
   ],
   "source": [
    "# Access 2-D array\n",
    "#import numpy as np\n",
    "\n",
    "a = np.array([[11,12,13,14,15], [16,17,18,19,10]])\n",
    "\n",
    "print('2nd element on 1st dim: ', a[1, 1])"
   ]
  },
  {
   "cell_type": "code",
   "execution_count": 12,
   "metadata": {
    "colab": {
     "base_uri": "https://localhost:8080/"
    },
    "executionInfo": {
     "elapsed": 385,
     "status": "ok",
     "timestamp": 1628617768109,
     "user": {
      "displayName": "Raj krishan Ghosh",
      "photoUrl": "https://lh3.googleusercontent.com/a-/AOh14GghvZXWXwTELPkRWO4g8oOi0UxcwpxC7jJEUDNxbg=s64",
      "userId": "08394546989760083469"
     },
     "user_tz": -330
    },
    "id": "mVpjQC-ysYBh",
    "outputId": "f952a0ff-3fac-48e1-d2a1-1161e8ec6224"
   },
   "outputs": [
    {
     "name": "stdout",
     "output_type": "stream",
     "text": [
      "Last element from 2nd dim:  10\n"
     ]
    }
   ],
   "source": [
    "#import numpy as np\n",
    "\n",
    "arr = np.array([[11,12,13,14,15], [16,17,18,19,10]])\n",
    "\n",
    "print('Last element from 2nd dim: ', arr[1, -1])"
   ]
  },
  {
   "cell_type": "markdown",
   "metadata": {
    "id": "w3Fm9Xf-sYBh"
   },
   "source": [
    "### NumPy Array Slicing\n",
    "\n",
    "<b>Slicing in python means taking elements from one given index to another given index.</b>\n",
    "\n",
    "We pass slice instead of index like this: [start:end].\n",
    "\n",
    "We can also define the step, like this: [start:end:step]."
   ]
  },
  {
   "cell_type": "code",
   "execution_count": 13,
   "metadata": {
    "colab": {
     "base_uri": "https://localhost:8080/"
    },
    "executionInfo": {
     "elapsed": 387,
     "status": "ok",
     "timestamp": 1628617805614,
     "user": {
      "displayName": "Raj krishan Ghosh",
      "photoUrl": "https://lh3.googleusercontent.com/a-/AOh14GghvZXWXwTELPkRWO4g8oOi0UxcwpxC7jJEUDNxbg=s64",
      "userId": "08394546989760083469"
     },
     "user_tz": -330
    },
    "id": "mJ5MHjqJsYBh",
    "outputId": "20ffd206-c3d9-43db-e3aa-b557648dd954"
   },
   "outputs": [
    {
     "name": "stdout",
     "output_type": "stream",
     "text": [
      "[12 13 14 15]\n"
     ]
    }
   ],
   "source": [
    "#slice elements from index 1 to index 5 from the following array\n",
    "\n",
    "#import numpy as np\n",
    "\n",
    "a = np.array([11, 12, 13, 14, 15, 16, 17])\n",
    "\n",
    "print(a[1:5])                               # it will consider the start index but for end index it will print till (end-1) index."
   ]
  },
  {
   "cell_type": "code",
   "execution_count": 14,
   "metadata": {
    "colab": {
     "base_uri": "https://localhost:8080/"
    },
    "executionInfo": {
     "elapsed": 407,
     "status": "ok",
     "timestamp": 1628617814746,
     "user": {
      "displayName": "Raj krishan Ghosh",
      "photoUrl": "https://lh3.googleusercontent.com/a-/AOh14GghvZXWXwTELPkRWO4g8oOi0UxcwpxC7jJEUDNxbg=s64",
      "userId": "08394546989760083469"
     },
     "user_tz": -330
    },
    "id": "CDjNGiUhsYBh",
    "outputId": "4096acb2-a211-489f-d551-7af827860022"
   },
   "outputs": [
    {
     "name": "stdout",
     "output_type": "stream",
     "text": [
      "[15 16 17 10 11]\n"
     ]
    }
   ],
   "source": [
    "#Slice elements from index 4 to the end of the array.\n",
    "\n",
    "#import numpy as np\n",
    "\n",
    "a = np.array([11, 12, 13, 14, 15, 16, 17,10,11])\n",
    "\n",
    "print(a[4:])"
   ]
  },
  {
   "cell_type": "code",
   "execution_count": 15,
   "metadata": {
    "colab": {
     "base_uri": "https://localhost:8080/"
    },
    "executionInfo": {
     "elapsed": 376,
     "status": "ok",
     "timestamp": 1628617820043,
     "user": {
      "displayName": "Raj krishan Ghosh",
      "photoUrl": "https://lh3.googleusercontent.com/a-/AOh14GghvZXWXwTELPkRWO4g8oOi0UxcwpxC7jJEUDNxbg=s64",
      "userId": "08394546989760083469"
     },
     "user_tz": -330
    },
    "id": "RX2QhWmTsYBh",
    "outputId": "1ceb1a24-5bcb-4d6c-ac7b-dce87f0a7ce6"
   },
   "outputs": [
    {
     "name": "stdout",
     "output_type": "stream",
     "text": [
      "[11 12 13 14 15]\n"
     ]
    }
   ],
   "source": [
    "#Slice elements from the beginning to index 5\n",
    "\n",
    "#import numpy as np\n",
    "\n",
    "a= np.array([11, 12, 13, 14, 15, 16, 17])\n",
    "\n",
    "print(a[:5])"
   ]
  },
  {
   "cell_type": "code",
   "execution_count": 16,
   "metadata": {
    "colab": {
     "base_uri": "https://localhost:8080/"
    },
    "executionInfo": {
     "elapsed": 406,
     "status": "ok",
     "timestamp": 1628617834003,
     "user": {
      "displayName": "Raj krishan Ghosh",
      "photoUrl": "https://lh3.googleusercontent.com/a-/AOh14GghvZXWXwTELPkRWO4g8oOi0UxcwpxC7jJEUDNxbg=s64",
      "userId": "08394546989760083469"
     },
     "user_tz": -330
    },
    "id": "Y1eG7dUYsYBi",
    "outputId": "fb325622-a88a-4b5d-8097-726c94716ab4"
   },
   "outputs": [
    {
     "name": "stdout",
     "output_type": "stream",
     "text": [
      "[14 15 16]\n"
     ]
    }
   ],
   "source": [
    "#Slice from the index 4 from the end  to index 1 from the end\n",
    "\n",
    "#import numpy as np\n",
    "\n",
    "a = np.array([11, 12, 13, 14, 15, 16, 17])\n",
    "\n",
    "print(a[-4:-1])"
   ]
  },
  {
   "cell_type": "code",
   "execution_count": 17,
   "metadata": {
    "colab": {
     "base_uri": "https://localhost:8080/"
    },
    "executionInfo": {
     "elapsed": 784,
     "status": "ok",
     "timestamp": 1628617858221,
     "user": {
      "displayName": "Raj krishan Ghosh",
      "photoUrl": "https://lh3.googleusercontent.com/a-/AOh14GghvZXWXwTELPkRWO4g8oOi0UxcwpxC7jJEUDNxbg=s64",
      "userId": "08394546989760083469"
     },
     "user_tz": -330
    },
    "id": "O5SMNALwsYBi",
    "outputId": "645dec06-3bdd-490c-a2c4-d43fba87f93a"
   },
   "outputs": [
    {
     "name": "stdout",
     "output_type": "stream",
     "text": [
      "[12 14 16]\n"
     ]
    }
   ],
   "source": [
    "#Step value to determine slicing\n",
    "\n",
    "#import numpy as np\n",
    "\n",
    "a = np.array([11, 12, 13, 14, 15, 16, 17])\n",
    "\n",
    "print(a[1:6:2])                           #[start:end:step]"
   ]
  },
  {
   "cell_type": "code",
   "execution_count": 18,
   "metadata": {
    "colab": {
     "base_uri": "https://localhost:8080/"
    },
    "executionInfo": {
     "elapsed": 413,
     "status": "ok",
     "timestamp": 1628617880718,
     "user": {
      "displayName": "Raj krishan Ghosh",
      "photoUrl": "https://lh3.googleusercontent.com/a-/AOh14GghvZXWXwTELPkRWO4g8oOi0UxcwpxC7jJEUDNxbg=s64",
      "userId": "08394546989760083469"
     },
     "user_tz": -330
    },
    "id": "ZhM-38FbsYBi",
    "outputId": "945fbf79-1241-4435-b0b3-a20139cb8f41"
   },
   "outputs": [
    {
     "name": "stdout",
     "output_type": "stream",
     "text": [
      "[11 13 15 17]\n"
     ]
    }
   ],
   "source": [
    "#Return every other elements from the entire array.\n",
    "\n",
    "#import numpy as np\n",
    "\n",
    "arr = np.array([11, 12, 13, 14, 15, 16, 17])\n",
    "\n",
    "print(arr[::2])"
   ]
  },
  {
   "cell_type": "code",
   "execution_count": 19,
   "metadata": {
    "colab": {
     "base_uri": "https://localhost:8080/"
    },
    "executionInfo": {
     "elapsed": 5,
     "status": "ok",
     "timestamp": 1628617899272,
     "user": {
      "displayName": "Raj krishan Ghosh",
      "photoUrl": "https://lh3.googleusercontent.com/a-/AOh14GghvZXWXwTELPkRWO4g8oOi0UxcwpxC7jJEUDNxbg=s64",
      "userId": "08394546989760083469"
     },
     "user_tz": -330
    },
    "id": "csLjfg0LsYBi",
    "outputId": "818277b0-2c80-4c7f-8ece-f801c9338ce1"
   },
   "outputs": [
    {
     "data": {
      "text/plain": [
       "array([[11, 12, 13, 14, 15],\n",
       "       [16, 17, 18, 19, 10]])"
      ]
     },
     "execution_count": 19,
     "metadata": {},
     "output_type": "execute_result"
    }
   ],
   "source": [
    "#slicing 2-D array\n",
    "#From the second element, slice elements from index 1 to index 4\n",
    "\n",
    "#import numpy as np\n",
    "\n",
    "arr = np.array([[11, 12, 13, 14, 15], [16, 17, 18, 19, 10]])\n",
    "\n",
    "arr\n",
    "\n"
   ]
  },
  {
   "cell_type": "code",
   "execution_count": 20,
   "metadata": {},
   "outputs": [
    {
     "name": "stdout",
     "output_type": "stream",
     "text": [
      "[17 18 19]\n"
     ]
    }
   ],
   "source": [
    "print(arr[1, 1:4])\n"
   ]
  },
  {
   "cell_type": "code",
   "execution_count": 22,
   "metadata": {
    "colab": {
     "base_uri": "https://localhost:8080/"
    },
    "executionInfo": {
     "elapsed": 408,
     "status": "ok",
     "timestamp": 1628617906005,
     "user": {
      "displayName": "Raj krishan Ghosh",
      "photoUrl": "https://lh3.googleusercontent.com/a-/AOh14GghvZXWXwTELPkRWO4g8oOi0UxcwpxC7jJEUDNxbg=s64",
      "userId": "08394546989760083469"
     },
     "user_tz": -330
    },
    "id": "YQCUIp8WsYBi",
    "outputId": "d16ff5c4-db65-41a7-b20b-15e739fa8500"
   },
   "outputs": [],
   "source": [
    "#From both elements, slice index 1 to index 4, this will return a 2-D array.\n",
    "\n",
    "#import numpy as np\n",
    "\n",
    "arr = np.array([[11, 12, 13, 14, 15], [16, 17, 18, 19, 10]])\n"
   ]
  },
  {
   "cell_type": "code",
   "execution_count": 23,
   "metadata": {},
   "outputs": [
    {
     "data": {
      "text/plain": [
       "array([[11, 12, 13, 14, 15],\n",
       "       [16, 17, 18, 19, 10]])"
      ]
     },
     "execution_count": 23,
     "metadata": {},
     "output_type": "execute_result"
    }
   ],
   "source": [
    "arr\n"
   ]
  },
  {
   "cell_type": "code",
   "execution_count": 24,
   "metadata": {},
   "outputs": [
    {
     "name": "stdout",
     "output_type": "stream",
     "text": [
      "[[12 13 14]\n",
      " [17 18 19]]\n"
     ]
    }
   ],
   "source": [
    "print(arr[0:2, 1:4])"
   ]
  },
  {
   "cell_type": "markdown",
   "metadata": {
    "id": "KYUkYDwAsYBi"
   },
   "source": [
    "# NumPy Data Types\n",
    "<ol>\n",
    "<li>Strings (S)</li>\n",
    "<li>Integer (i)</li>\n",
    "<li>Float (f)</li>\n",
    "<li>Boolean (b)</li>\n",
    "<li>Complex (c)</li>\n",
    "</ol>\n"
   ]
  },
  {
   "cell_type": "code",
   "execution_count": 25,
   "metadata": {
    "colab": {
     "base_uri": "https://localhost:8080/"
    },
    "executionInfo": {
     "elapsed": 409,
     "status": "ok",
     "timestamp": 1628617934995,
     "user": {
      "displayName": "Raj krishan Ghosh",
      "photoUrl": "https://lh3.googleusercontent.com/a-/AOh14GghvZXWXwTELPkRWO4g8oOi0UxcwpxC7jJEUDNxbg=s64",
      "userId": "08394546989760083469"
     },
     "user_tz": -330
    },
    "id": "8fr0mFvksYBi",
    "outputId": "fce02efd-9784-43fb-e1a3-09d89d2d377b"
   },
   "outputs": [
    {
     "name": "stdout",
     "output_type": "stream",
     "text": [
      "int32\n"
     ]
    }
   ],
   "source": [
    "#checking the data types\n",
    "\n",
    "import numpy as np\n",
    "\n",
    "a = np.array([1,2,3,4])\n",
    "\n",
    "print(a.dtype)"
   ]
  },
  {
   "cell_type": "code",
   "execution_count": 26,
   "metadata": {
    "colab": {
     "base_uri": "https://localhost:8080/"
    },
    "executionInfo": {
     "elapsed": 396,
     "status": "ok",
     "timestamp": 1628617939412,
     "user": {
      "displayName": "Raj krishan Ghosh",
      "photoUrl": "https://lh3.googleusercontent.com/a-/AOh14GghvZXWXwTELPkRWO4g8oOi0UxcwpxC7jJEUDNxbg=s64",
      "userId": "08394546989760083469"
     },
     "user_tz": -330
    },
    "id": "nEdQHH2VsYBj",
    "outputId": "e4bf2aa6-6cea-4238-f794-c09ee060d3c8"
   },
   "outputs": [
    {
     "name": "stdout",
     "output_type": "stream",
     "text": [
      "[1 2 3 4]\n",
      "int32\n"
     ]
    }
   ],
   "source": [
    "#Creating array with a defined Data type\n",
    "#import numpy as np\n",
    "\n",
    "arr = np.array([1.1, 2.2, 3.3, 4.4], dtype='i')\n",
    "\n",
    "print(arr)\n",
    "print(arr.dtype)\n"
   ]
  },
  {
   "cell_type": "code",
   "execution_count": 27,
   "metadata": {
    "colab": {
     "base_uri": "https://localhost:8080/"
    },
    "executionInfo": {
     "elapsed": 499,
     "status": "ok",
     "timestamp": 1628617945316,
     "user": {
      "displayName": "Raj krishan Ghosh",
      "photoUrl": "https://lh3.googleusercontent.com/a-/AOh14GghvZXWXwTELPkRWO4g8oOi0UxcwpxC7jJEUDNxbg=s64",
      "userId": "08394546989760083469"
     },
     "user_tz": -330
    },
    "id": "WT-h5NNPsYBj",
    "outputId": "5824b715-ec7e-4b59-8313-f4a7178b4a87"
   },
   "outputs": [
    {
     "name": "stdout",
     "output_type": "stream",
     "text": [
      "[1 2 3]\n",
      "int32\n"
     ]
    }
   ],
   "source": [
    "import numpy as np\n",
    "\n",
    "arr = np.array([1.1, 2.1, 3.1])\n",
    "\n",
    "newarr = arr.astype('i')  # 'i' inplace of int.\n",
    "\n",
    "print(newarr)\n",
    "print(newarr.dtype)"
   ]
  },
  {
   "cell_type": "code",
   "execution_count": 28,
   "metadata": {
    "colab": {
     "base_uri": "https://localhost:8080/"
    },
    "executionInfo": {
     "elapsed": 663,
     "status": "ok",
     "timestamp": 1628617958693,
     "user": {
      "displayName": "Raj krishan Ghosh",
      "photoUrl": "https://lh3.googleusercontent.com/a-/AOh14GghvZXWXwTELPkRWO4g8oOi0UxcwpxC7jJEUDNxbg=s64",
      "userId": "08394546989760083469"
     },
     "user_tz": -330
    },
    "id": "k6V-Axq8sYBj",
    "outputId": "d9dd6339-d1d1-48d5-e853-9495d0417f51"
   },
   "outputs": [
    {
     "name": "stdout",
     "output_type": "stream",
     "text": [
      "[False  True  True  True]\n",
      "bool\n"
     ]
    }
   ],
   "source": [
    "#int to boolean\n",
    "\n",
    "import numpy as np\n",
    "\n",
    "arr = np.array([0, -1, 3,4])\n",
    "\n",
    "newarr = arr.astype(bool)\n",
    "\n",
    "print(newarr)\n",
    "print(newarr.dtype)"
   ]
  },
  {
   "cell_type": "markdown",
   "metadata": {
    "id": "3VelRztbsYBj"
   },
   "source": [
    "### NumPy Array: Copy vs View\n",
    "\n",
    "The main difference between a copy and a view of an array is that the copy is a new array, and the view is just a view of the original array.\n"
   ]
  },
  {
   "cell_type": "code",
   "execution_count": 29,
   "metadata": {
    "colab": {
     "base_uri": "https://localhost:8080/"
    },
    "executionInfo": {
     "elapsed": 389,
     "status": "ok",
     "timestamp": 1628617983386,
     "user": {
      "displayName": "Raj krishan Ghosh",
      "photoUrl": "https://lh3.googleusercontent.com/a-/AOh14GghvZXWXwTELPkRWO4g8oOi0UxcwpxC7jJEUDNxbg=s64",
      "userId": "08394546989760083469"
     },
     "user_tz": -330
    },
    "id": "f4kUlvZusYBj",
    "outputId": "1d4aaa26-cdfb-49c2-d3e8-eac4cd17489f"
   },
   "outputs": [
    {
     "name": "stdout",
     "output_type": "stream",
     "text": [
      "[1 2 3 4 5]\n",
      "[42  2  3  4  5]\n"
     ]
    }
   ],
   "source": [
    "#Make a copy\n",
    "\n",
    "#import numpy as np\n",
    "\n",
    "arr = np.array([1, 2, 3, 4, 5])\n",
    "x = arr.copy()\n",
    "x[0] = 42\n",
    "\n",
    "print(arr)\n",
    "print(x)"
   ]
  },
  {
   "cell_type": "code",
   "execution_count": 30,
   "metadata": {
    "colab": {
     "base_uri": "https://localhost:8080/"
    },
    "executionInfo": {
     "elapsed": 387,
     "status": "ok",
     "timestamp": 1628617988011,
     "user": {
      "displayName": "Raj krishan Ghosh",
      "photoUrl": "https://lh3.googleusercontent.com/a-/AOh14GghvZXWXwTELPkRWO4g8oOi0UxcwpxC7jJEUDNxbg=s64",
      "userId": "08394546989760083469"
     },
     "user_tz": -330
    },
    "id": "AfYAYRmAsYBj",
    "outputId": "6e7f88f3-e6fe-4412-c6ab-e92ec5a6d73c"
   },
   "outputs": [
    {
     "name": "stdout",
     "output_type": "stream",
     "text": [
      "[42  2  3  4  5]\n",
      "[42  2  3  4  5]\n"
     ]
    }
   ],
   "source": [
    "#make a view\n",
    "\n",
    "import numpy as np\n",
    "\n",
    "arr = np.array([1, 2, 3, 4, 5])\n",
    "x = arr.view()\n",
    "x[0] = 42\n",
    "\n",
    "print(arr)\n",
    "print(x)"
   ]
  },
  {
   "cell_type": "markdown",
   "metadata": {
    "id": "hFaTrWsisYBj"
   },
   "source": [
    "### NumPy Array Shape\n",
    "\n",
    "The shape of an array is the number of elements in each dimension."
   ]
  },
  {
   "cell_type": "code",
   "execution_count": 31,
   "metadata": {
    "colab": {
     "base_uri": "https://localhost:8080/"
    },
    "executionInfo": {
     "elapsed": 394,
     "status": "ok",
     "timestamp": 1628618015890,
     "user": {
      "displayName": "Raj krishan Ghosh",
      "photoUrl": "https://lh3.googleusercontent.com/a-/AOh14GghvZXWXwTELPkRWO4g8oOi0UxcwpxC7jJEUDNxbg=s64",
      "userId": "08394546989760083469"
     },
     "user_tz": -330
    },
    "id": "EytIy5KHsYBk",
    "outputId": "7db79242-f548-41fd-c6a4-a9425c1d52c2"
   },
   "outputs": [
    {
     "name": "stdout",
     "output_type": "stream",
     "text": [
      "(2, 4)\n"
     ]
    }
   ],
   "source": [
    "#print shape of 2-D array\n",
    "\n",
    "import numpy as np\n",
    "arr = np.array([[1, 2, 3, 4], [5, 6, 7, 8]])\n",
    "\n",
    "print(arr.shape)"
   ]
  },
  {
   "cell_type": "markdown",
   "metadata": {
    "id": "jJ5PlXo-sYBk"
   },
   "source": [
    "### NumPy Array Reshaping\n",
    "\n",
    "Reshaping means changing the shape of an array."
   ]
  },
  {
   "cell_type": "code",
   "execution_count": 2,
   "metadata": {
    "colab": {
     "base_uri": "https://localhost:8080/"
    },
    "executionInfo": {
     "elapsed": 638,
     "status": "ok",
     "timestamp": 1628618037512,
     "user": {
      "displayName": "Raj krishan Ghosh",
      "photoUrl": "https://lh3.googleusercontent.com/a-/AOh14GghvZXWXwTELPkRWO4g8oOi0UxcwpxC7jJEUDNxbg=s64",
      "userId": "08394546989760083469"
     },
     "user_tz": -330
    },
    "id": "iHiwQSKusYBk",
    "outputId": "aade090e-a098-4a31-beec-09277cea47e0"
   },
   "outputs": [
    {
     "name": "stdout",
     "output_type": "stream",
     "text": [
      "[[ 1  2  3]\n",
      " [ 4  5  6]\n",
      " [ 7  8  9]\n",
      " [10 11 12]]\n"
     ]
    }
   ],
   "source": [
    "# 1-D to 2-D\n",
    "import numpy as np\n",
    "\n",
    "arr = np.array([1, 2, 3, 4, 5, 6, 7, 8, 9, 10, 11, 12])\n",
    "\n",
    "newarr = arr.reshape(4,3)\n",
    "\n",
    "print(newarr)"
   ]
  },
  {
   "cell_type": "code",
   "execution_count": 35,
   "metadata": {
    "colab": {
     "base_uri": "https://localhost:8080/"
    },
    "executionInfo": {
     "elapsed": 411,
     "status": "ok",
     "timestamp": 1628618069085,
     "user": {
      "displayName": "Raj krishan Ghosh",
      "photoUrl": "https://lh3.googleusercontent.com/a-/AOh14GghvZXWXwTELPkRWO4g8oOi0UxcwpxC7jJEUDNxbg=s64",
      "userId": "08394546989760083469"
     },
     "user_tz": -330
    },
    "id": "m-G--gaasYBk",
    "outputId": "25cd7c25-00ab-4645-b71f-45d3817c070c"
   },
   "outputs": [
    {
     "name": "stdout",
     "output_type": "stream",
     "text": [
      "[1 2 3 4 5 6]\n"
     ]
    }
   ],
   "source": [
    "#Flattening the array\n",
    "import numpy as np\n",
    "\n",
    "arr = np.array([[1, 2, 3], [4, 5, 6]])\n",
    "\n",
    "newarr = arr.reshape(-1)\n",
    "\n",
    "print(newarr)\n",
    "#print(arr)"
   ]
  },
  {
   "cell_type": "markdown",
   "metadata": {
    "id": "AFO_hFhcsYBk"
   },
   "source": [
    "### NumPy Array Iterating\n",
    "\n",
    "Iterating means going through elements one by one."
   ]
  },
  {
   "cell_type": "code",
   "execution_count": 36,
   "metadata": {
    "colab": {
     "base_uri": "https://localhost:8080/"
    },
    "executionInfo": {
     "elapsed": 516,
     "status": "ok",
     "timestamp": 1628618099757,
     "user": {
      "displayName": "Raj krishan Ghosh",
      "photoUrl": "https://lh3.googleusercontent.com/a-/AOh14GghvZXWXwTELPkRWO4g8oOi0UxcwpxC7jJEUDNxbg=s64",
      "userId": "08394546989760083469"
     },
     "user_tz": -330
    },
    "id": "Xh21833JsYBk",
    "outputId": "a508a357-cf76-405b-918e-183aca771a9c"
   },
   "outputs": [
    {
     "name": "stdout",
     "output_type": "stream",
     "text": [
      "1\n",
      "2\n",
      "3\n"
     ]
    }
   ],
   "source": [
    "#1D array\n",
    "import numpy as np\n",
    "\n",
    "arr = np.array([1, 2, 3])\n",
    "\n",
    "for x in arr:\n",
    "    print(x)"
   ]
  },
  {
   "cell_type": "code",
   "execution_count": 37,
   "metadata": {
    "colab": {
     "base_uri": "https://localhost:8080/"
    },
    "executionInfo": {
     "elapsed": 380,
     "status": "ok",
     "timestamp": 1628618147436,
     "user": {
      "displayName": "Raj krishan Ghosh",
      "photoUrl": "https://lh3.googleusercontent.com/a-/AOh14GghvZXWXwTELPkRWO4g8oOi0UxcwpxC7jJEUDNxbg=s64",
      "userId": "08394546989760083469"
     },
     "user_tz": -330
    },
    "id": "-pq9m-zBsYBk",
    "outputId": "94e79874-ef8c-436a-eb6c-617fc0bbc81b"
   },
   "outputs": [
    {
     "name": "stdout",
     "output_type": "stream",
     "text": [
      "1\n",
      "2\n",
      "3\n",
      "4\n",
      "5\n",
      "6\n"
     ]
    }
   ],
   "source": [
    "#2D array\n",
    "import numpy as np\n",
    "\n",
    "arr = np.array([[1, 2, 3], [4, 5, 6]])\n",
    "\n",
    "for x in arr:\n",
    "    for y in x:\n",
    "        print(y)\n"
   ]
  },
  {
   "cell_type": "code",
   "execution_count": 38,
   "metadata": {},
   "outputs": [
    {
     "name": "stdout",
     "output_type": "stream",
     "text": [
      "(0, 0) 1\n",
      "(0, 1) 2\n",
      "(0, 2) 3\n",
      "(1, 0) 4\n",
      "(1, 1) 5\n",
      "(1, 2) 6\n"
     ]
    }
   ],
   "source": [
    "for idx,x in np.ndenumerate(arr):\n",
    "    print(idx,x)"
   ]
  },
  {
   "cell_type": "markdown",
   "metadata": {
    "id": "kBp6jMnMsYBl"
   },
   "source": [
    "### NumPy Joining Array"
   ]
  },
  {
   "cell_type": "code",
   "execution_count": 39,
   "metadata": {
    "colab": {
     "base_uri": "https://localhost:8080/"
    },
    "executionInfo": {
     "elapsed": 383,
     "status": "ok",
     "timestamp": 1628618185752,
     "user": {
      "displayName": "Raj krishan Ghosh",
      "photoUrl": "https://lh3.googleusercontent.com/a-/AOh14GghvZXWXwTELPkRWO4g8oOi0UxcwpxC7jJEUDNxbg=s64",
      "userId": "08394546989760083469"
     },
     "user_tz": -330
    },
    "id": "8TqgVdg8sYBl",
    "outputId": "3dc90ff6-b67f-49e5-c6df-6ef5a1385d00"
   },
   "outputs": [
    {
     "name": "stdout",
     "output_type": "stream",
     "text": [
      "[1 2 3 4 5 6]\n"
     ]
    }
   ],
   "source": [
    "import numpy as np\n",
    "\n",
    "arr1 = np.array([1, 2, 3])\n",
    "\n",
    "arr2 = np.array([4, 5, 6])\n",
    "\n",
    "arr = np.concatenate((arr1, arr2))\n",
    "\n",
    "print(arr)"
   ]
  },
  {
   "cell_type": "markdown",
   "metadata": {
    "id": "cfhAnRq_sYBl"
   },
   "source": [
    "### NumPy Splitting Array"
   ]
  },
  {
   "cell_type": "code",
   "execution_count": 42,
   "metadata": {
    "colab": {
     "base_uri": "https://localhost:8080/"
    },
    "executionInfo": {
     "elapsed": 374,
     "status": "ok",
     "timestamp": 1628618251396,
     "user": {
      "displayName": "Raj krishan Ghosh",
      "photoUrl": "https://lh3.googleusercontent.com/a-/AOh14GghvZXWXwTELPkRWO4g8oOi0UxcwpxC7jJEUDNxbg=s64",
      "userId": "08394546989760083469"
     },
     "user_tz": -330
    },
    "id": "xvy5R5XusYBl",
    "outputId": "8555d2ff-d468-4233-ed43-b153de47f0ab"
   },
   "outputs": [
    {
     "name": "stdout",
     "output_type": "stream",
     "text": [
      "[array([1, 2, 3]), array([4, 5, 6])]\n",
      "<class 'numpy.ndarray'>\n"
     ]
    }
   ],
   "source": [
    "#split the array in 3 parts\n",
    "\n",
    "import numpy as np\n",
    "\n",
    "arr = np.array([1, 2, 3, 4, 5, 6])\n",
    "\n",
    "newarr = np.array_split(arr, 2)\n",
    "\n",
    "print(newarr)\n",
    "print(type(newarr[0]))"
   ]
  },
  {
   "cell_type": "code",
   "execution_count": 43,
   "metadata": {
    "colab": {
     "base_uri": "https://localhost:8080/"
    },
    "executionInfo": {
     "elapsed": 392,
     "status": "ok",
     "timestamp": 1628618300947,
     "user": {
      "displayName": "Raj krishan Ghosh",
      "photoUrl": "https://lh3.googleusercontent.com/a-/AOh14GghvZXWXwTELPkRWO4g8oOi0UxcwpxC7jJEUDNxbg=s64",
      "userId": "08394546989760083469"
     },
     "user_tz": -330
    },
    "id": "91zV_K2-sYBl",
    "outputId": "4404680e-1910-40db-afc9-8c6482634af1"
   },
   "outputs": [
    {
     "name": "stdout",
     "output_type": "stream",
     "text": [
      "[array([[1, 2],\n",
      "       [3, 4]]), array([[5, 6],\n",
      "       [7, 8]]), array([[ 9, 10],\n",
      "       [11, 12]])]\n"
     ]
    }
   ],
   "source": [
    "#Splitting 2-D arrays into three 2-D array.\n",
    "#import numpy as np\n",
    "\n",
    "arr = np.array([[1, 2], [3, 4], [5, 6], [7, 8], [9, 10], [11, 12]])\n",
    "\n",
    "newarr = np.array_split(arr, 3)\n",
    "\n",
    "print(newarr)\n",
    "#print(newarr[0])\n",
    "#print(newarr[1])\n",
    "#print(newarr[2])\n"
   ]
  },
  {
   "cell_type": "markdown",
   "metadata": {
    "id": "vYc3VdvnsYBl"
   },
   "source": [
    "# NumPy Searching Arrays"
   ]
  },
  {
   "cell_type": "code",
   "execution_count": 44,
   "metadata": {
    "colab": {
     "base_uri": "https://localhost:8080/"
    },
    "executionInfo": {
     "elapsed": 399,
     "status": "ok",
     "timestamp": 1628618475506,
     "user": {
      "displayName": "Raj krishan Ghosh",
      "photoUrl": "https://lh3.googleusercontent.com/a-/AOh14GghvZXWXwTELPkRWO4g8oOi0UxcwpxC7jJEUDNxbg=s64",
      "userId": "08394546989760083469"
     },
     "user_tz": -330
    },
    "id": "rK9ydwaVsYBl",
    "outputId": "a6e186e6-9c44-42e3-911f-27f2221d2c6b"
   },
   "outputs": [
    {
     "name": "stdout",
     "output_type": "stream",
     "text": [
      "(array([3, 5, 6], dtype=int64),)\n"
     ]
    }
   ],
   "source": [
    "#Where() method\n",
    "import numpy as np\n",
    "\n",
    "arr = np.array([1, 2, 3, 4, 5, 4, 4])\n",
    "\n",
    "x = np.where(arr == 4)\n",
    "#x = np.array(x)[0]\n",
    "print(x)\n"
   ]
  },
  {
   "cell_type": "code",
   "execution_count": 45,
   "metadata": {
    "colab": {
     "base_uri": "https://localhost:8080/"
    },
    "executionInfo": {
     "elapsed": 397,
     "status": "ok",
     "timestamp": 1628618499839,
     "user": {
      "displayName": "Raj krishan Ghosh",
      "photoUrl": "https://lh3.googleusercontent.com/a-/AOh14GghvZXWXwTELPkRWO4g8oOi0UxcwpxC7jJEUDNxbg=s64",
      "userId": "08394546989760083469"
     },
     "user_tz": -330
    },
    "id": "OdSxs7gYsYBl",
    "outputId": "64de3076-9faf-40b1-d3d5-7203f551d3de"
   },
   "outputs": [
    {
     "name": "stdout",
     "output_type": "stream",
     "text": [
      "(array([1, 3, 5, 7], dtype=int64),)\n"
     ]
    }
   ],
   "source": [
    "#Find the indexes where the values are even\n",
    "\n",
    "import numpy as np\n",
    "\n",
    "arr = np.array([11, 12, 13, 14, 15, 16, 17, 18])\n",
    "\n",
    "x = np.where(arr%2 == 0)\n",
    "\n",
    "print(x)"
   ]
  },
  {
   "cell_type": "markdown",
   "metadata": {
    "id": "iQTqXo_LsYBl"
   },
   "source": [
    "### NumPy Sorting Arrays"
   ]
  },
  {
   "cell_type": "code",
   "execution_count": 46,
   "metadata": {
    "colab": {
     "base_uri": "https://localhost:8080/"
    },
    "executionInfo": {
     "elapsed": 407,
     "status": "ok",
     "timestamp": 1628618522695,
     "user": {
      "displayName": "Raj krishan Ghosh",
      "photoUrl": "https://lh3.googleusercontent.com/a-/AOh14GghvZXWXwTELPkRWO4g8oOi0UxcwpxC7jJEUDNxbg=s64",
      "userId": "08394546989760083469"
     },
     "user_tz": -330
    },
    "id": "AW86zNPhsYBl",
    "outputId": "d5213d2d-35ca-460a-9d79-429e1c9760b1"
   },
   "outputs": [
    {
     "name": "stdout",
     "output_type": "stream",
     "text": [
      "[0 1 2 3]\n"
     ]
    }
   ],
   "source": [
    "#sort\n",
    "import numpy as np\n",
    "\n",
    "arr = np.array([3, 2, 0, 1])\n",
    "\n",
    "print(np.sort(arr))"
   ]
  },
  {
   "cell_type": "code",
   "execution_count": 47,
   "metadata": {
    "colab": {
     "base_uri": "https://localhost:8080/"
    },
    "executionInfo": {
     "elapsed": 420,
     "status": "ok",
     "timestamp": 1628618526210,
     "user": {
      "displayName": "Raj krishan Ghosh",
      "photoUrl": "https://lh3.googleusercontent.com/a-/AOh14GghvZXWXwTELPkRWO4g8oOi0UxcwpxC7jJEUDNxbg=s64",
      "userId": "08394546989760083469"
     },
     "user_tz": -330
    },
    "id": "WouhHeNYsYBl",
    "outputId": "f930b486-64db-4206-82d8-4212fcd6bb57"
   },
   "outputs": [
    {
     "name": "stdout",
     "output_type": "stream",
     "text": [
      "['apple' 'banana' 'cherry']\n"
     ]
    }
   ],
   "source": [
    "import numpy as np\n",
    "\n",
    "arr = np.array(['banana', 'cherry', 'apple'])\n",
    "\n",
    "print(np.sort(arr))"
   ]
  },
  {
   "cell_type": "code",
   "execution_count": 48,
   "metadata": {
    "colab": {
     "base_uri": "https://localhost:8080/"
    },
    "executionInfo": {
     "elapsed": 397,
     "status": "ok",
     "timestamp": 1628618531244,
     "user": {
      "displayName": "Raj krishan Ghosh",
      "photoUrl": "https://lh3.googleusercontent.com/a-/AOh14GghvZXWXwTELPkRWO4g8oOi0UxcwpxC7jJEUDNxbg=s64",
      "userId": "08394546989760083469"
     },
     "user_tz": -330
    },
    "id": "bDGk9GZHsYBm",
    "outputId": "0fa93f1c-4e49-4801-e7d3-09091768cdf1",
    "scrolled": true
   },
   "outputs": [
    {
     "name": "stdout",
     "output_type": "stream",
     "text": [
      "[[2 3 4]\n",
      " [0 1 5]]\n"
     ]
    }
   ],
   "source": [
    "import numpy as np\n",
    "\n",
    "arr = np.array([[3, 2, 4], [5, 0, 1]])\n",
    "\n",
    "print(np.sort(arr))"
   ]
  },
  {
   "cell_type": "markdown",
   "metadata": {
    "id": "M0d3m--hsYBm"
   },
   "source": [
    "### Random Numbers in NumPy\n"
   ]
  },
  {
   "cell_type": "code",
   "execution_count": 50,
   "metadata": {
    "colab": {
     "base_uri": "https://localhost:8080/"
    },
    "executionInfo": {
     "elapsed": 375,
     "status": "ok",
     "timestamp": 1628618544666,
     "user": {
      "displayName": "Raj krishan Ghosh",
      "photoUrl": "https://lh3.googleusercontent.com/a-/AOh14GghvZXWXwTELPkRWO4g8oOi0UxcwpxC7jJEUDNxbg=s64",
      "userId": "08394546989760083469"
     },
     "user_tz": -330
    },
    "id": "dNwlheeasYBm",
    "outputId": "9a432cda-21e6-43aa-d132-4bf5abc91768"
   },
   "outputs": [
    {
     "name": "stdout",
     "output_type": "stream",
     "text": [
      "1\n"
     ]
    }
   ],
   "source": [
    "from numpy import random\n",
    "\n",
    "x = random.randint(100)\n",
    "print(x)"
   ]
  },
  {
   "cell_type": "code",
   "execution_count": 51,
   "metadata": {},
   "outputs": [],
   "source": [
    "x = random.randint(3,25,(5,5))"
   ]
  },
  {
   "cell_type": "code",
   "execution_count": 52,
   "metadata": {},
   "outputs": [
    {
     "data": {
      "text/plain": [
       "array([[ 7, 24, 19, 20, 23],\n",
       "       [12, 15, 19,  6, 10],\n",
       "       [14, 19,  8, 14, 20],\n",
       "       [20, 12,  5, 12, 10],\n",
       "       [18, 23, 21, 21, 11]])"
      ]
     },
     "execution_count": 52,
     "metadata": {},
     "output_type": "execute_result"
    }
   ],
   "source": [
    "x"
   ]
  },
  {
   "cell_type": "code",
   "execution_count": 54,
   "metadata": {
    "id": "OXJOh0DpsYBm"
   },
   "outputs": [
    {
     "data": {
      "text/plain": [
       "array([[0.67655535, 0.90814088],\n",
       "       [0.4330311 , 0.83202566],\n",
       "       [0.74822679, 0.84259241]])"
      ]
     },
     "execution_count": 54,
     "metadata": {},
     "output_type": "execute_result"
    }
   ],
   "source": [
    "#rand() method return a random float between 0 and 1\n",
    "\n",
    "x = random.rand(3,2)\n",
    "x"
   ]
  },
  {
   "cell_type": "code",
   "execution_count": 55,
   "metadata": {
    "colab": {
     "base_uri": "https://localhost:8080/"
    },
    "executionInfo": {
     "elapsed": 515,
     "status": "ok",
     "timestamp": 1628618572325,
     "user": {
      "displayName": "Raj krishan Ghosh",
      "photoUrl": "https://lh3.googleusercontent.com/a-/AOh14GghvZXWXwTELPkRWO4g8oOi0UxcwpxC7jJEUDNxbg=s64",
      "userId": "08394546989760083469"
     },
     "user_tz": -330
    },
    "id": "BBGYiOYRsYBm",
    "outputId": "47c5ecee-4804-4412-a81b-aa4a0d23337b"
   },
   "outputs": [
    {
     "name": "stdout",
     "output_type": "stream",
     "text": [
      "[[44  5 99 53 46]\n",
      " [ 6 60 79 45 26]\n",
      " [91 49 89 92 99]]\n"
     ]
    }
   ],
   "source": [
    "#generate random array\n",
    "#from numpy import random\n",
    "\n",
    "#x=random.randint(100, size=(5))\n",
    "x=random.randint(100, size=(3,5))\n",
    "\n",
    "print(x)"
   ]
  },
  {
   "cell_type": "markdown",
   "metadata": {
    "id": "XOhhRdprsYBm"
   },
   "source": [
    "### Mathematical operations\n"
   ]
  },
  {
   "cell_type": "code",
   "execution_count": 60,
   "metadata": {
    "colab": {
     "base_uri": "https://localhost:8080/"
    },
    "executionInfo": {
     "elapsed": 381,
     "status": "ok",
     "timestamp": 1628618613064,
     "user": {
      "displayName": "Raj krishan Ghosh",
      "photoUrl": "https://lh3.googleusercontent.com/a-/AOh14GghvZXWXwTELPkRWO4g8oOi0UxcwpxC7jJEUDNxbg=s64",
      "userId": "08394546989760083469"
     },
     "user_tz": -330
    },
    "id": "K69ml380sYBm",
    "outputId": "4057c32e-8668-4947-bd5d-6a4db988fdbd"
   },
   "outputs": [
    {
     "name": "stdout",
     "output_type": "stream",
     "text": [
      "[4 6]\n"
     ]
    }
   ],
   "source": [
    "a = np.array([1,2])\n",
    "b= np.array([3,4])\n",
    "\n",
    "c = np.add(a, b)\n",
    "\n",
    "#c = np.subtract(a, b)\n",
    "#c = np.multiply(a, b)\n",
    "#c = np.divide(a, b)\n",
    "#c = np.power(a, b) \n",
    "#c = np.power(a, 2)\n",
    "#to get remainder\n",
    "#c= np.mod(a, b)\n",
    "#c = np.remainder(a, b)\n",
    "print(c)"
   ]
  },
  {
   "cell_type": "markdown",
   "metadata": {
    "id": "unmi7DKcsYBm"
   },
   "source": [
    "### Statistical function\n"
   ]
  },
  {
   "cell_type": "code",
   "execution_count": 61,
   "metadata": {
    "colab": {
     "base_uri": "https://localhost:8080/"
    },
    "executionInfo": {
     "elapsed": 542,
     "status": "ok",
     "timestamp": 1628618683235,
     "user": {
      "displayName": "Raj krishan Ghosh",
      "photoUrl": "https://lh3.googleusercontent.com/a-/AOh14GghvZXWXwTELPkRWO4g8oOi0UxcwpxC7jJEUDNxbg=s64",
      "userId": "08394546989760083469"
     },
     "user_tz": -330
    },
    "id": "0qkKhOtusYBm",
    "outputId": "bdad2175-6a28-4438-cbdc-4c53099a2351"
   },
   "outputs": [
    {
     "data": {
      "text/plain": [
       "3.0"
      ]
     },
     "execution_count": 61,
     "metadata": {},
     "output_type": "execute_result"
    }
   ],
   "source": [
    "a = [1,2,3,4,5]\n",
    "\n",
    "np.median(a)\n",
    "#np.std(a)\n",
    "#np.average(a)\n",
    "#np.mean(a)\n",
    "#np.var(a)\n"
   ]
  },
  {
   "cell_type": "markdown",
   "metadata": {
    "id": "n92gcPREsYBm"
   },
   "source": [
    "### Data Distribution using NumPy\n",
    "\n"
   ]
  },
  {
   "cell_type": "code",
   "execution_count": 62,
   "metadata": {
    "colab": {
     "base_uri": "https://localhost:8080/",
     "height": 265
    },
    "executionInfo": {
     "elapsed": 394,
     "status": "ok",
     "timestamp": 1628618990754,
     "user": {
      "displayName": "Raj krishan Ghosh",
      "photoUrl": "https://lh3.googleusercontent.com/a-/AOh14GghvZXWXwTELPkRWO4g8oOi0UxcwpxC7jJEUDNxbg=s64",
      "userId": "08394546989760083469"
     },
     "user_tz": -330
    },
    "id": "cDd75TcmsYBm",
    "outputId": "a7e15aed-6c39-4d95-d266-7b36b8fabf12"
   },
   "outputs": [
    {
     "data": {
      "image/png": "[encoded data removed]",
      "text/plain": [
       "<Figure size 432x288 with 1 Axes>"
      ]
     },
     "metadata": {
      "needs_background": "light"
     },
     "output_type": "display_data"
    }
   ],
   "source": [
    "#Random uniform distribution..\n",
    "\n",
    "import numpy\n",
    "import matplotlib.pyplot as plt\n",
    "\n",
    "x = numpy.random.uniform(0.0, 5.0, 250)            #(lowerbound, upperbound, samples)\n",
    "#x = numpy.random.normal(0.0, 5.0, 250)\n",
    "\n",
    "plt.hist(x, 5)\n",
    "plt.show()"
   ]
  },
  {
   "cell_type": "code",
   "execution_count": null,
   "metadata": {},
   "outputs": [],
   "source": []
  }
 ],
 "metadata": {
  "colab": {
   "collapsed_sections": [],
   "name": "Numpy.ipynb",
   "provenance": []
  },
  "kernelspec": {
   "display_name": "Python 3 (ipykernel)",
   "language": "python",
   "name": "python3"
  },
  "language_info": {
   "codemirror_mode": {
    "name": "ipython",
    "version": 3
   },
   "file_extension": ".py",
   "mimetype": "text/x-python",
   "name": "python",
   "nbconvert_exporter": "python",
   "pygments_lexer": "ipython3",
   "version": "3.9.7"
  }
 },
 "nbformat": 4,
 "nbformat_minor": 1
}
